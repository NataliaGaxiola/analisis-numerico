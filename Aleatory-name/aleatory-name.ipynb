{
 "cells": [
  {
   "cell_type": "code",
   "execution_count": 24,
   "metadata": {},
   "outputs": [
    {
     "name": "stdout",
     "output_type": "stream",
     "text": [
      "0               Avelar Ortiz Abner Abisai\n",
      "1     Badillo Diaz De Leon Juan Sebastian\n",
      "2            Beltran Guerrero Jose Manuel\n",
      "3                  De La Rocha Paez Arath\n",
      "4      De Los Rios Guerrero Juan Fernando\n",
      "5           Gastelum Angulo Pedro Joaquin\n",
      "6        Hernandez Rodriguez Jose Gabriel\n",
      "7               Ibarra Corvera Jose Angel\n",
      "8                     Morales Perez Paola\n",
      "9          Olvera Tinoco Sarahi Guadalupe\n",
      "10             Ponce Becerra Dulce Camila\n",
      "11          Rodriguez Barron Dariana Rubi\n",
      "12                Ruelas Heras Luis Mario\n",
      "13             Vasquez Torrez Alan Jociel\n",
      "14                   Zepeda Hopper Rafael\n",
      "Name: Nombre, dtype: object\n"
     ]
    }
   ],
   "source": [
    "import pandas as pd\n",
    "list = pd.read_csv(\"Lista-Astronomia.csv\")\n",
    "name = list.Nombre\n",
    "print(name)\n"
   ]
  },
  {
   "cell_type": "code",
   "execution_count": null,
   "metadata": {},
   "outputs": [],
   "source": [
    "sample = name.sample()\n",
    "print(sample)"
   ]
  }
 ],
 "metadata": {
  "kernelspec": {
   "display_name": "Python 3",
   "language": "python",
   "name": "python3"
  },
  "language_info": {
   "codemirror_mode": {
    "name": "ipython",
    "version": 3
   },
   "file_extension": ".py",
   "mimetype": "text/x-python",
   "name": "python",
   "nbconvert_exporter": "python",
   "pygments_lexer": "ipython3",
   "version": "3.13.2"
  }
 },
 "nbformat": 4,
 "nbformat_minor": 2
}
