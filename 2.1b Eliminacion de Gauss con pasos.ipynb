{
 "cells": [
  {
   "cell_type": "code",
   "execution_count": 37,
   "metadata": {},
   "outputs": [
    {
     "name": "stdout",
     "output_type": "stream",
     "text": [
      "La matriz de coeficientes es:\n",
      "  [[ 1.  0. -3.]\n",
      " [ 3.  1. -2.]\n",
      " [ 2.  2.  1.]]\n",
      "La matriz constante es:\n",
      "  [[-2.]\n",
      " [ 5.]\n",
      " [ 4.]]\n",
      "La matriz aumentada es :\n",
      " [[ 1.  0. -3. -2.]\n",
      " [ 3.  1. -2.  5.]\n",
      " [ 2.  2.  1.  4.]]\n",
      "El siguiente elemento del procedimiento es: \n",
      "[[ 1.  0. -3. -2.]\n",
      " [ 0.  1.  7. 11.]\n",
      " [ 2.  2.  1.  4.]]\n",
      "El siguiente elemento del procedimiento es: \n",
      "[[ 1.  0. -3. -2.]\n",
      " [ 0.  1.  7. 11.]\n",
      " [ 0.  2.  7.  8.]]\n",
      "El siguiente elemento del procedimiento es: \n",
      "[[  1.   0.  -3.  -2.]\n",
      " [  0.   1.   7.  11.]\n",
      " [  0.   0.  -7. -14.]]\n",
      "El vector solución es :\n",
      " [[ 4.]\n",
      " [-3.]\n",
      " [ 2.]]\n"
     ]
    }
   ],
   "source": [
    "#Programa de eliminación Gaussiana mostrando los pasos\n",
    "import numpy as np\n",
    "\n",
    "a = np.array([[1.0, 0.0, -3.0], [3.0, 1.0, -2.0], [2.0, 2.0, 1.0]])\n",
    "print('La matriz de coeficientes es:\\n ', a)\n",
    "b = np.array([[-2.0], [5.0], [4.0]])\n",
    "n = len(b)\n",
    "print('La matriz constante es:\\n ', b)\n",
    "\n",
    "matriz_aumentada = np.concatenate((a,b), axis=1, dtype=float)\n",
    "print('La matriz aumentada es :\\n', matriz_aumentada)\n",
    "\n",
    "\n",
    "def gaussElimin(a,b):\n",
    "  # Fase de eliminacion\n",
    "  for k in range(0,n-1):\n",
    "    for i in range(k+1,n):\n",
    "      if matriz_aumentada[i,k] != 0.0:\n",
    "        lam = matriz_aumentada[i,k]/matriz_aumentada[k,k]\n",
    "        matriz_aumentada[i] = matriz_aumentada[i] - lam*matriz_aumentada[k]\n",
    "        b[i] = b[i] - lam*b[k]\n",
    "        print(f'El siguiente elemento del procedimiento es: {'\\n'}{matriz_aumentada}')\n",
    "  # Fase de sustitucion hacia atras\n",
    "  for k in range(n-1,-1,-1):\n",
    "    b[k] = (b[k] - np.dot(matriz_aumentada[k,k+1:n],b[k+1:n]))/matriz_aumentada[k,k]\n",
    "  return b\n",
    "\n",
    "\n",
    "print('El vector solución es :\\n',gaussElimin(a,b))"
   ]
  },
  {
   "cell_type": "code",
   "execution_count": null,
   "metadata": {},
   "outputs": [],
   "source": []
  }
 ],
 "metadata": {
  "kernelspec": {
   "display_name": "Python 3",
   "language": "python",
   "name": "python3"
  },
  "language_info": {
   "codemirror_mode": {
    "name": "ipython",
    "version": 3
   },
   "file_extension": ".py",
   "mimetype": "text/x-python",
   "name": "python",
   "nbconvert_exporter": "python",
   "pygments_lexer": "ipython3",
   "version": "3.13.2"
  }
 },
 "nbformat": 4,
 "nbformat_minor": 2
}
