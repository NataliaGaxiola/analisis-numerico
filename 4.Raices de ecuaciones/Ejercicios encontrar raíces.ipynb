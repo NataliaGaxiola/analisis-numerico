{
 "cells": [
  {
   "cell_type": "markdown",
   "metadata": {},
   "source": [
    "### Problema 1: Área de un jardín\n",
    "#### Imagina que quieres diseñar un jardin rectangular. La longitud del jardín es 3 metros más que el ancho. Deseas que el área total del jardín sea de 70 metros cuadrados. Diseñe una ecuación adecuada para el problema y resulva utilizando métodos computacionales.\n"
   ]
  },
  {
   "cell_type": "code",
   "execution_count": 15,
   "metadata": {},
   "outputs": [],
   "source": [
    "#La ecuación asociada al problema es: x**2+3*x-70 \n"
   ]
  },
  {
   "cell_type": "code",
   "execution_count": 32,
   "metadata": {},
   "outputs": [],
   "source": [
    "from math import *\n",
    "import matplotlib.pyplot as plt\n",
    "import numpy as np\n",
    "from math import cos"
   ]
  },
  {
   "cell_type": "code",
   "execution_count": 12,
   "metadata": {},
   "outputs": [
    {
     "data": {
      "text/plain": [
       "Text(0.5, 0, 'x')"
      ]
     },
     "execution_count": 12,
     "metadata": {},
     "output_type": "execute_result"
    },
    {
     "data": {
      "image/png": "[encoded data removed]",
      "text/plain": [
       "<Figure size 640x480 with 1 Axes>"
      ]
     },
     "metadata": {},
     "output_type": "display_data"
    }
   ],
   "source": [
    "x = np.arange(-15.0, 15.0, 0.10)\n",
    "s = x**2+3*x-70 \n",
    "line, = plt.plot(x, s, lw=2)\n",
    "\n",
    "#plt.annotate('raiz', xy=(1.5, 0), xytext=(2.5, 0.5),\n",
    "#             arrowprops=dict(facecolor='black', shrink=0.05),\n",
    "#             )\n",
    "#plt.annotate('raiz', xy=(1.0, 0), xytext=(0, 0.5),\n",
    "#             arrowprops=dict(facecolor='black', shrink=0.05),\n",
    "#             )\n",
    "\n",
    "plt.grid(True)\n",
    "plt.ylim(-30.0, 2.0)\n",
    "plt.title(\"$y=x^2+3x-70$\")\n",
    "plt.ylabel('$y = f(x)$')\n",
    "plt.xlabel('x')\n",
    "#plt.savefig('../fig/raices.png')"
   ]
  },
  {
   "cell_type": "code",
   "execution_count": 19,
   "metadata": {},
   "outputs": [
    {
     "name": "stdout",
     "output_type": "stream",
     "text": [
      "La primera raiz es: -10.00000\n",
      "Numero de bisecciones: 26\n"
     ]
    }
   ],
   "source": [
    "# Metodo de Biseccion para el Ejemplo 1\n",
    "x1 = -9                # primer valor del intervalo\n",
    "x2 = -10               # segudo valor del intervalo\n",
    "y1 = x1**2+3*x1-70     # calcula y1\n",
    "y2 = x2**2+3*x2-70    # calcula y2\n",
    "if y1*y2 > 0:          # prueba si los signos son iguales\n",
    "    print('No hay raices en el intervalo dado')\n",
    "    exit               # termina el programa  #falta encontrar el buen EXIT!!\n",
    "for i in range(1,101): # asume que 100 bisecciones son suficientes\n",
    "  xh = (x1+x2)/2         # calcula el valor medio\n",
    "  yh = xh**2+3*xh-70    # calcula el valor de y en el valor medio yh\n",
    "  y1 = x1**2+3*x1-70    # calcula y1\n",
    "  if abs(y1) < 1.0e-6:   # condicion de acercamiento a la solucion (tol)\n",
    "    break                  # salir del loop\n",
    "  elif y1*yh < 0:        # si el signo es diferente quedarse en la primera mitad\n",
    "    x2 = xh                # que x2 sea el punto medio\n",
    "  else:                  # si el signo es igual quedarse en la segunda mitad\n",
    "    x1 = xh                # que x1 sea el punto medio\n",
    "print('La primera raiz es: %.5f' % x1)\n",
    "print('Numero de bisecciones: %d' % i)"
   ]
  },
  {
   "cell_type": "code",
   "execution_count": 18,
   "metadata": {},
   "outputs": [
    {
     "name": "stdout",
     "output_type": "stream",
     "text": [
      "La segunda raiz es: 7.00000\n",
      "Numero de bisecciones: 2\n"
     ]
    }
   ],
   "source": [
    "# Metodo de Biseccion para el Ejemplo 1\n",
    "x1 = 6                # primer valor del intervalo\n",
    "x2 = 8               # segudo valor del intervalo\n",
    "y1 = x1**2+3*x1-70     # calcula y1\n",
    "y2 = x2**2+3*x2-70    # calcula y2\n",
    "if y1*y2 > 0:          # prueba si los signos son iguales\n",
    "    print('No hay raices en el intervalo dado')\n",
    "    exit               # termina el programa  #falta encontrar el buen EXIT!!\n",
    "for i in range(1,101): # asume que 100 bisecciones son suficientes\n",
    "  xh = (x1+x2)/2         # calcula el valor medio\n",
    "  yh = xh**2+3*xh-70     # calcula el valor de y en el valor medio yh\n",
    "  y1 = x1**2+3*x1-70     # calcula y1\n",
    "  if abs(y1) < 1.0e-6:   # condicion de acercamiento a la solucion (tol)\n",
    "    break                  # salir del loop\n",
    "  elif y1*yh < 0:        # si el signo es diferente quedarse en la primera mitad\n",
    "    x2 = xh                # que x2 sea el punto medio\n",
    "  else:                  # si el signo es igual quedarse en la segunda mitad\n",
    "    x1 = xh                # que x1 sea el punto medio\n",
    "print('La segunda raiz es: %.5f' % x1)\n",
    "print('Numero de bisecciones: %d' % i)"
   ]
  },
  {
   "cell_type": "markdown",
   "metadata": {},
   "source": [
    "#### La respuesta al problema es 8m"
   ]
  },
  {
   "cell_type": "markdown",
   "metadata": {},
   "source": [
    "### Problema 2: Precio de una camiseta\n",
    "#### Supón que estás en una tienda y ves una camiseta que te gusta. El precio original es de $40, pero están en oferta y se aplica un descuento del 25%. Además, hay un impuesto del 10% sobre el precio ya descontado ya descontado. ¿Cuál es el precio final de la camiseta?"
   ]
  },
  {
   "cell_type": "code",
   "execution_count": 20,
   "metadata": {},
   "outputs": [],
   "source": [
    "des= 40-(40*0.25)"
   ]
  },
  {
   "cell_type": "code",
   "execution_count": 29,
   "metadata": {},
   "outputs": [
    {
     "data": {
      "text/plain": [
       "Text(0.5, 0, 'x')"
      ]
     },
     "execution_count": 29,
     "metadata": {},
     "output_type": "execute_result"
    },
    {
     "data": {
      "image/png": "[encoded data removed]",
      "text/plain": [
       "<Figure size 640x480 with 1 Axes>"
      ]
     },
     "metadata": {},
     "output_type": "display_data"
    }
   ],
   "source": [
    "x = np.arange(30.0, 40.0, 0.10)\n",
    "s = x-des-(0.1*des)\n",
    "line, = plt.plot(x, s, lw=2)\n",
    "\n",
    "#plt.annotate('raiz', xy=(1.5, 0), xytext=(2.5, 0.5),\n",
    "#             arrowprops=dict(facecolor='black', shrink=0.05),\n",
    "#             )\n",
    "#plt.annotate('raiz', xy=(1.0, 0), xytext=(0, 0.5),\n",
    "#             arrowprops=dict(facecolor='black', shrink=0.05),\n",
    "#             )\n",
    "\n",
    "plt.grid(True)\n",
    "plt.ylim(-10.0, 10.0)\n",
    "plt.title(\"$y=precio_final$\")\n",
    "plt.ylabel('$y = f(x)$')\n",
    "plt.xlabel('x')\n",
    "#plt.savefig('../fig/raices.png')"
   ]
  },
  {
   "cell_type": "code",
   "execution_count": 28,
   "metadata": {},
   "outputs": [
    {
     "name": "stdout",
     "output_type": "stream",
     "text": [
      "La raiz es: 33.00000\n",
      "Numero de bisecciones: 2\n"
     ]
    }
   ],
   "source": [
    "# Metodo de Biseccion para el Ejemplo 1\n",
    "x1 = 32                # primer valor del intervalo\n",
    "x2 = 34               # segudo valor del intervalo\n",
    "y1 = x1-des-(0.1*des)     # calcula y1\n",
    "y2 = x2-des-(0.1*des)   # calcula y2\n",
    "if y1*y2 > 0:          # prueba si los signos son iguales\n",
    "    print('No hay raices en el intervalo dado')\n",
    "    exit               # termina el programa  #falta encontrar el buen EXIT!!\n",
    "for i in range(1,101): # asume que 100 bisecciones son suficientes\n",
    "  xh = (x1+x2)/2         # calcula el valor medio\n",
    "  yh = xh-des-(0.1*des)     # calcula el valor de y en el valor medio yh\n",
    "  y1 = x1-des-(0.1*des)     # calcula y1\n",
    "  if abs(y1) < 1.0e-6:   # condicion de acercamiento a la solucion (tol)\n",
    "    break                  # salir del loop\n",
    "  elif y1*yh < 0:        # si el signo es diferente quedarse en la primera mitad\n",
    "    x2 = xh                # que x2 sea el punto medio\n",
    "  else:                  # si el signo es igual quedarse en la segunda mitad\n",
    "    x1 = xh                # que x1 sea el punto medio\n",
    "print('La raiz es: %.5f' % x1)\n",
    "print('Numero de bisecciones: %d' % i)"
   ]
  },
  {
   "cell_type": "markdown",
   "metadata": {},
   "source": [
    "### Problema 3\n",
    "#### Encontrar la raíz de la función $f(x)=cos(x)-x$ en el intervalo [0,1]"
   ]
  },
  {
   "cell_type": "code",
   "execution_count": 33,
   "metadata": {},
   "outputs": [
    {
     "ename": "TypeError",
     "evalue": "only length-1 arrays can be converted to Python scalars",
     "output_type": "error",
     "traceback": [
      "\u001b[1;31m---------------------------------------------------------------------------\u001b[0m",
      "\u001b[1;31mTypeError\u001b[0m                                 Traceback (most recent call last)",
      "Cell \u001b[1;32mIn[33], line 2\u001b[0m\n\u001b[0;32m      1\u001b[0m x \u001b[38;5;241m=\u001b[39m np\u001b[38;5;241m.\u001b[39marange(\u001b[38;5;241m-\u001b[39m\u001b[38;5;241m5.0\u001b[39m, \u001b[38;5;241m5.0\u001b[39m, \u001b[38;5;241m0.10\u001b[39m)\n\u001b[1;32m----> 2\u001b[0m s \u001b[38;5;241m=\u001b[39m \u001b[43mcos\u001b[49m\u001b[43m(\u001b[49m\u001b[43mx\u001b[49m\u001b[43m)\u001b[49m\u001b[38;5;241m-\u001b[39mx\n\u001b[0;32m      3\u001b[0m line, \u001b[38;5;241m=\u001b[39m plt\u001b[38;5;241m.\u001b[39mplot(x, s, lw\u001b[38;5;241m=\u001b[39m\u001b[38;5;241m2\u001b[39m)\n\u001b[0;32m      5\u001b[0m \u001b[38;5;66;03m#plt.annotate('raiz', xy=(1.5, 0), xytext=(2.5, 0.5),\u001b[39;00m\n\u001b[0;32m      6\u001b[0m \u001b[38;5;66;03m#             arrowprops=dict(facecolor='black', shrink=0.05),\u001b[39;00m\n\u001b[0;32m      7\u001b[0m \u001b[38;5;66;03m#             )\u001b[39;00m\n\u001b[0;32m      8\u001b[0m \u001b[38;5;66;03m#plt.annotate('raiz', xy=(1.0, 0), xytext=(0, 0.5),\u001b[39;00m\n\u001b[0;32m      9\u001b[0m \u001b[38;5;66;03m#             arrowprops=dict(facecolor='black', shrink=0.05),\u001b[39;00m\n\u001b[0;32m     10\u001b[0m \u001b[38;5;66;03m#             )\u001b[39;00m\n",
      "\u001b[1;31mTypeError\u001b[0m: only length-1 arrays can be converted to Python scalars"
     ]
    }
   ],
   "source": [
    "x = np.arange(-5.0, 5.0, 0.10)\n",
    "s = cos(x)-x\n",
    "line, = plt.plot(x, s, lw=2)\n",
    "\n",
    "#plt.annotate('raiz', xy=(1.5, 0), xytext=(2.5, 0.5),\n",
    "#             arrowprops=dict(facecolor='black', shrink=0.05),\n",
    "#             )\n",
    "#plt.annotate('raiz', xy=(1.0, 0), xytext=(0, 0.5),\n",
    "#             arrowprops=dict(facecolor='black', shrink=0.05),\n",
    "#             )\n",
    "\n",
    "plt.grid(True)\n",
    "plt.ylim(-10.0, 10.0)\n",
    "plt.title(\"$y=cos(x)-x$\")\n",
    "plt.ylabel('$y = f(x)$')\n",
    "plt.xlabel('x')\n",
    "#plt.savefig('../fig/raices.png')"
   ]
  },
  {
   "cell_type": "code",
   "execution_count": 34,
   "metadata": {},
   "outputs": [
    {
     "name": "stdout",
     "output_type": "stream",
     "text": [
      "La raiz es: 0.73908\n",
      "Numero de bisecciones: 22\n"
     ]
    }
   ],
   "source": [
    "# Metodo de Biseccion para el Ejemplo 1\n",
    "x1 = 0                # primer valor del intervalo\n",
    "x2 = 1               # segudo valor del intervalo\n",
    "y1 = cos(x1)-x1     # calcula y1\n",
    "y2 = cos(x2)-x2   # calcula y2\n",
    "if y1*y2 > 0:          # prueba si los signos son iguales\n",
    "    print('No hay raices en el intervalo dado')\n",
    "    exit               # termina el programa  #falta encontrar el buen EXIT!!\n",
    "for i in range(1,101): # asume que 100 bisecciones son suficientes\n",
    "  xh = (x1+x2)/2         # calcula el valor medio\n",
    "  yh = cos(xh)-xh     # calcula el valor de y en el valor medio yh\n",
    "  y1 = cos(x1)-x1     # calcula y1\n",
    "  if abs(y1) < 1.0e-6:   # condicion de acercamiento a la solucion (tol)\n",
    "    break                  # salir del loop\n",
    "  elif y1*yh < 0:        # si el signo es diferente quedarse en la primera mitad\n",
    "    x2 = xh                # que x2 sea el punto medio\n",
    "  else:                  # si el signo es igual quedarse en la segunda mitad\n",
    "    x1 = xh                # que x1 sea el punto medio\n",
    "print('La raiz es: %.5f' % x1)\n",
    "print('Numero de bisecciones: %d' % i)"
   ]
  },
  {
   "cell_type": "code",
   "execution_count": null,
   "metadata": {},
   "outputs": [],
   "source": []
  }
 ],
 "metadata": {
  "kernelspec": {
   "display_name": "Python 3",
   "language": "python",
   "name": "python3"
  },
  "language_info": {
   "codemirror_mode": {
    "name": "ipython",
    "version": 3
   },
   "file_extension": ".py",
   "mimetype": "text/x-python",
   "name": "python",
   "nbconvert_exporter": "python",
   "pygments_lexer": "ipython3",
   "version": "3.13.2"
  }
 },
 "nbformat": 4,
 "nbformat_minor": 2
}
