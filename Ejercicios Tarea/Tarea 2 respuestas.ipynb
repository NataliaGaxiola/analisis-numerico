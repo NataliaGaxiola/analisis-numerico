{
 "cells": [
  {
   "cell_type": "markdown",
   "metadata": {},
   "source": [
    "### Intersección de trayectorias.\n",
    "\n",
    "Tres objetos se mueven de tal manera que sus trayectorias son:\n",
    "\n",
    "\\begin{align}\n",
    "2x-y+3z=24 \\nonumber \\\\\n",
    "2y-z=14 \\nonumber \\\\\n",
    "7x-5y=6 \\nonumber \n",
    "\\end{align}\n",
    "\n",
    "Encontrar su punto de intersección."
   ]
  },
  {
   "cell_type": "code",
   "execution_count": null,
   "metadata": {},
   "outputs": [
    {
     "name": "stdout",
     "output_type": "stream",
     "text": [
      "[[ 2. -1.  3.]\n",
      " [ 0.  2. -1.]\n",
      " [ 7. -5.  0.]]\n",
      "la matriz columna b es : \n",
      " [[24.]\n",
      " [14.]\n",
      " [ 6.]]\n"
     ]
    }
   ],
   "source": [
    "import numpy as np\n",
    "a = np.array([[2.0, -1.0, 3.0],\n",
    "              [0, 2.0, -1.0],\n",
    "              [7.0, -5, 0]])\n",
    "print(a)\n",
    "\n",
    "b = np.array([[24.0], [14.0], [6.0]])\n",
    "print('La matriz columna b es : \\n',b)"
   ]
  },
  {
   "cell_type": "code",
   "execution_count": 13,
   "metadata": {},
   "outputs": [
    {
     "name": "stdout",
     "output_type": "stream",
     "text": [
      "[[ 8.]\n",
      " [10.]\n",
      " [ 6.]]\n"
     ]
    }
   ],
   "source": [
    "## modulo gaussElimin\n",
    "'''\n",
    "x = gaussElimin(a,b).\n",
    "Resuelve [a]{x} = {b} por metodo eliminacion de Gauss.\n",
    "'''\n",
    "import numpy as np\n",
    "\n",
    "def gaussElimin(a,b):\n",
    "  n = len(b)\n",
    "  # Fase de eliminacion\n",
    "  for k in range(0,n-1):\n",
    "    for i in range(k+1,n):\n",
    "      if a[i,k] != 0.0:\n",
    "        lam = a [i,k]/a[k,k]\n",
    "        a[i,k+1:n] = a[i,k+1:n] - lam*a[k,k+1:n]\n",
    "        b[i] = b[i] - lam*b[k]\n",
    "  # Fase de sustitucion hacia atras\n",
    "  for k in range(n-1,-1,-1):\n",
    "    b[k] = (b[k] - np.dot(a[k,k+1:n],b[k+1:n]))/a[k,k]\n",
    "  return b\n",
    "\n",
    "print(gaussElimin(a,b))"
   ]
  },
  {
   "cell_type": "markdown",
   "metadata": {},
   "source": [
    "### Carga de los quarks\n",
    "\n",
    "Los protones y neutrones están formados cada uno por tres quarks. Los protones poseen dos quarks up (u) y un quark down (d), los neutrones poseen un quark up y dos quarks down. Si la carga de un protón es igual al positivo de la carga del electrón $(+e)$ y la carga de un neutrón es cero, determine las cargas de los quarks up y down. (Tip: suponga que $+e=1$.)\n"
   ]
  },
  {
   "cell_type": "code",
   "execution_count": 1,
   "metadata": {},
   "outputs": [
    {
     "name": "stdout",
     "output_type": "stream",
     "text": [
      "La matriz de coeficientes a es : \n",
      " [[2. 1.]\n",
      " [1. 2.]]\n",
      "La matriz columna b es : \n",
      " [[1.]\n",
      " [0.]]\n",
      "Las cargas de los quarks u y d son: \n",
      " [[ 0.66666667]\n",
      " [-0.33333333]]\n"
     ]
    }
   ],
   "source": [
    "import numpy as np\n",
    "a = np.array([[2.0, 1.0],\n",
    "              [1.0, 2.0],\n",
    "            ])\n",
    "print('La matriz de coeficientes a es : \\n',a)\n",
    "\n",
    "b = np.array([[1.0], [0]])\n",
    "print('La matriz columna b es : \\n',b)\n",
    "def gaussElimin(a,b):\n",
    "  n = len(b)\n",
    "  # Fase de eliminacion\n",
    "  for k in range(0,n-1):\n",
    "    for i in range(k+1,n):\n",
    "      if a[i,k] != 0.0:\n",
    "        lam = a [i,k]/a[k,k]\n",
    "        a[i,k+1:n] = a[i,k+1:n] - lam*a[k,k+1:n]\n",
    "        b[i] = b[i] - lam*b[k]\n",
    "  # Fase de sustitucion hacia atras\n",
    "  for k in range(n-1,-1,-1):\n",
    "    b[k] = (b[k] - np.dot(a[k,k+1:n],b[k+1:n]))/a[k,k]\n",
    "  return b\n",
    "\n",
    "print(f\"Las cargas de los quarks u y d son: \\n {gaussElimin(a,b)}\")"
   ]
  },
  {
   "cell_type": "markdown",
   "metadata": {},
   "source": [
    "### Meteoros\n",
    "\n",
    "El Centro de Investigación 1 examina la cantidad de meteoros que entran a la atmósfera. Con su equipo de recopilación de datos durante 8 horas captó 95kg de meteoros, por fuentes externas sabemos que fueron de 4 distintas masas (1kg, 5kg, 10kg y 20kg). La cantidad total de meteoros fue de 26. Otro centro de investigación captó que la cantidad de meteoros de 5kg es 4 veces la cantidad de meteoros de 10kg, y el número de meteoros de 1kg es 1 menos que el doble de la cantidad de meteoros de 5kg. Después\n",
    "use matrices para encontrar el número asociado a cada masa de meteoros.\n"
   ]
  },
  {
   "cell_type": "code",
   "execution_count": 17,
   "metadata": {},
   "outputs": [
    {
     "name": "stdout",
     "output_type": "stream",
     "text": [
      "[[ 1.  5. 10. 20.]\n",
      " [ 0.  1. -4.  0.]\n",
      " [-1.  2.  0.  0.]\n",
      " [ 1.  1.  1.  1.]]\n",
      "la matriz columna b es : \n",
      " [[95.]\n",
      " [ 0.]\n",
      " [ 1.]\n",
      " [26.]]\n",
      "la cantidad de meteoros es: \n",
      " [[15.]\n",
      " [ 8.]\n",
      " [ 2.]\n",
      " [ 1.]]\n"
     ]
    }
   ],
   "source": [
    "import numpy as np\n",
    "a = np.array([[1.0, 5.0,10.0,20.0],\n",
    "              [0.0, 1.0,-4.0,0.0],\n",
    "               [-1.0, 2.0,0.0,0.0],\n",
    "                [1.0, 1.0,1.0,1.0]\n",
    "            ])\n",
    "print(a)\n",
    "\n",
    "b = np.array([[95.0], [0.0],[1.0],[26.0]])\n",
    "print('la matriz columna b es : \\n',b)\n",
    "def gaussElimin(a,b):\n",
    "  n = len(b)\n",
    "  # Fase de eliminacion\n",
    "  for k in range(0,n-1):\n",
    "    for i in range(k+1,n):\n",
    "      if a[i,k] != 0.0:\n",
    "        lam = a [i,k]/a[k,k]\n",
    "        a[i,k+1:n] = a[i,k+1:n] - lam*a[k,k+1:n]\n",
    "        b[i] = b[i] - lam*b[k]\n",
    "  # Fase de sustitucion hacia atras\n",
    "  for k in range(n-1,-1,-1):\n",
    "    b[k] = (b[k] - np.dot(a[k,k+1:n],b[k+1:n]))/a[k,k]\n",
    "  return b\n",
    "\n",
    "print(f\"la cantidad de meteoros es: \\n {gaussElimin(a,b)}\")"
   ]
  }
 ],
 "metadata": {
  "kernelspec": {
   "display_name": "Python 3",
   "language": "python",
   "name": "python3"
  },
  "language_info": {
   "codemirror_mode": {
    "name": "ipython",
    "version": 3
   },
   "file_extension": ".py",
   "mimetype": "text/x-python",
   "name": "python",
   "nbconvert_exporter": "python",
   "pygments_lexer": "ipython3",
   "version": "3.13.2"
  }
 },
 "nbformat": 4,
 "nbformat_minor": 2
}
