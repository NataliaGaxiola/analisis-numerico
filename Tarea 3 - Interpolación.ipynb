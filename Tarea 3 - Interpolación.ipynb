{
 "cells": [
  {
   "cell_type": "markdown",
   "metadata": {},
   "source": [
    "1. La viscocidad cinética $\\mu_k$ del agua varía con la temperatura $T$ de la siguiente manera:\n",
    "\n",
    " | $T~(°C)$ | $\\mu_k~(10^{-3}m^2/s)$ |\n",
    " | --- | --- |\n",
    " | 0 | 0.101 |  \n",
    " | 21.1 | 1.79  |  \n",
    " | 37.8 | 1.13  |  \n",
    " | 54.4 | 0.696 |\n",
    " | 71.1 | 0.519 |\n",
    " | 87.8 | 0.338 |\n",
    " | 100  | 0.296 | \n",
    "\n",
    " Utilice el método de su preferencia para interpolar $\\mu_k$ en $T=$ 10°, 30°, 60° y 90°C."
   ]
  },
  {
   "cell_type": "markdown",
   "metadata": {},
   "source": [
    "2. La tabla muestra como la densidad relativa $\\rho$ del aire varía con la altura $h$. Determine mediante interpolación de Lagrange la densidad relativa del aire a 10.5 km.\n",
    "\n",
    " | $h~(km)$ | $\\rho$ |\n",
    " | --- | --- |\n",
    " | 0 | 1 |  \n",
    " | 1.525 | 0.8617  |  \n",
    " | 3.050 | 0.7385  |  \n",
    " | 4.575 | 0.6292 |\n",
    " | 6.10 | 0.5328 |\n",
    " | 7.625 | 0.4481 |\n",
    " | 9.150  | 0.3741 | "
   ]
  },
  {
   "cell_type": "markdown",
   "metadata": {},
   "source": [
    "3. La amplitud vibracional de un eje de transmisión es medida a varias velocidades. Los resultados son\n",
    "\n",
    " | $Velocidad~(rpm)$ | $Amplitud~(mm)$ |\n",
    " | --- | --- |\n",
    " | 0 | 0 |  \n",
    " | 400 | 0.072  |  \n",
    " | 800 | 0.233  |  \n",
    " | 1200 | 0.712 |\n",
    " | 1600 | 3.400 |\n",
    "\n",
    "Utilice el método de interpolación más conveniente para graficar amplitud vs velocidad de 0 a 2500rpm (observe los intervalos de la tabla y determine el tamaño más conveniente de los intervalos)."
   ]
  },
  {
   "cell_type": "code",
   "execution_count": null,
   "metadata": {},
   "outputs": [],
   "source": []
  }
 ],
 "metadata": {
  "language_info": {
   "name": "python"
  }
 },
 "nbformat": 4,
 "nbformat_minor": 2
}
