{
 "cells": [
  {
   "cell_type": "markdown",
   "metadata": {},
   "source": [
    "### Intersección de trayectorias.\n",
    "\n",
    "Tres objetos se mueven de tal manera que sus trayectorias son:\n",
    "$$\n",
    "2x-y+3z=24\\\n",
    "2y-z=14\\\n",
    "7x-5y=6\\\n",
    "$$\n",
    "Encontrar su punto de intersección."
   ]
  },
  {
   "cell_type": "markdown",
   "metadata": {},
   "source": [
    "### Carga de los quarks\n",
    "\n",
    "Los protones y neutrones están formados cada uno por tres quarks. Los protones poseen dos quarks up (u) y un quark down (d), los neutrones poseen un quark up y dos quarks down. Si la carga de un protón es igual al positivo de la carga del electrón $(+e)$ y la carga de un neutrón es cero, determine las cargas de los quarks up y down. (Tip: suponga que $+e=1$.)\n"
   ]
  },
  {
   "cell_type": "markdown",
   "metadata": {},
   "source": [
    "### Meteoros\n",
    "\n",
    "El Centro de Investigación 1 examina la cantidad de meteoros que entran a la atmósfera. Con su equipo de recopilación de datos durante 8 horas captó 95kg de meteoros, por fuentes externas sabemos que fueron de 4 distintas masas (1kg, 5kg, 10kg y 20kg). La cantidad total de meteoros fue de 26. Otro centro de investigación captó que la cantidad de meteoros de 5kg es 4 veces la cantidad de meteoros de 10kg, y el número de meteoros de 1kg es 1 menos que el doble de la cantidad de meteoros de 5kg. Después\n",
    "use matrices para encontrar el número asociado a cada masa de meteoros.\n"
   ]
  }
 ],
 "metadata": {
  "language_info": {
   "name": "python"
  }
 },
 "nbformat": 4,
 "nbformat_minor": 2
}
