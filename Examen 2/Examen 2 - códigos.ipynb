{
 "cells": [
  {
   "cell_type": "code",
   "execution_count": null,
   "id": "f7bf93cb",
   "metadata": {},
   "outputs": [],
   "source": [
    "## Modulo Newton-Raphson\n",
    "## raiz = newtonRaphson(f,df,a,b,tol=1.0e-9).\n",
    "## Encuentra la raiz de f(x) = 0 combinando Newton-Raphson\n",
    "## con biseccion. La raiz debe estar en el intervalo (a,b).\n",
    "## Los usuarios definen f(x) y su derivada df(x).\n",
    "def err(string):\n",
    "  print(string)\n",
    "  input('Press return to exit')\n",
    "  sys.exit()\n",
    "\n",
    "def newtonRaphson(f,df,a,b,tol=1.0e-9):\n",
    "  from numpy import sign\n",
    "  fa = f(a)\n",
    "  if fa == 0.0: return a\n",
    "  fb = f(b)\n",
    "  if fb == 0.0: return b\n",
    "  if sign(fa) == sign(fb): err('La raiz no esta en el intervalo')\n",
    "  x = 0.5*(a + b)\n",
    "  for i in range(30):\n",
    "    print(i)\n",
    "    fx = f(x)\n",
    "    if fx == 0.0: return x \n",
    "    if sign(fa) != sign(fx): b = x # Haz el intervalo mas pequeño\n",
    "    else: a = x\n",
    "    dfx = df(x)  \n",
    "    try: dx = -fx/dfx # Trata un paso con la expresion de Delta x\n",
    "    except ZeroDivisionError: dx = b - a # Si division diverge, intervalo afuera\n",
    "    x = x + dx # avanza en x\n",
    "    if (b - x)*(x - a) < 0.0: # Si el resultado esta fuera, usa biseccion\n",
    "      dx = 0.5*(b - a)\n",
    "      x = a + dx \n",
    "    if abs(dx) < tol*max(abs(b),1.0): return x # Checa la convergencia y sal\n",
    "  print('Too many iterations in Newton-Raphson')\n"
   ]
  },
  {
   "cell_type": "code",
   "execution_count": null,
   "id": "d68a6fa1",
   "metadata": {},
   "outputs": [],
   "source": [
    "def f(x): return x**2 - 1\n",
    "def df(x): return 2*x\n",
    "root = newtonRaphson(f,df,-5.0,0)\n",
    "print('Root =',root)"
   ]
  },
  {
   "cell_type": "code",
   "execution_count": 3,
   "id": "8a0a8233",
   "metadata": {},
   "outputs": [],
   "source": [
    "from math import *\n",
    "import matplotlib.pyplot as plt\n",
    "import numpy as np"
   ]
  },
  {
   "cell_type": "code",
   "execution_count": 4,
   "id": "88860f79",
   "metadata": {},
   "outputs": [
    {
     "data": {
      "text/plain": [
       "Text(0.5, 0, 'x')"
      ]
     },
     "execution_count": 4,
     "metadata": {},
     "output_type": "execute_result"
    },
    {
     "data": {
      "image/png": "[encoded data removed]",
      "text/plain": [
       "<Figure size 640x480 with 1 Axes>"
      ]
     },
     "metadata": {},
     "output_type": "display_data"
    }
   ],
   "source": [
    "# Graficar funciones\n",
    "t = np.arange(0.0, 3.0, 0.01)\n",
    "s = 2*t**2-5*t+3  \n",
    "line, = plt.plot(t, s, lw=2)\n",
    "\n",
    "\n",
    "plt.grid(True)\n",
    "plt.ylim(-0.5, 1)\n",
    "plt.title(\"$y=2x^2-5x+3$\")\n",
    "plt.ylabel('$y = f(x)$')\n",
    "plt.xlabel('x')"
   ]
  },
  {
   "cell_type": "code",
   "execution_count": null,
   "id": "d22c6218",
   "metadata": {},
   "outputs": [],
   "source": [
    "# Metodo de Biseccion Mejorado para el Ejemplo de clase\n",
    "\n",
    "def y(x):                    # define la funcion y(x)\n",
    "  y = 2*x**2 - 5*x + 3\n",
    "  return y\n",
    "\n",
    "x1 = float(input('Captura el valor de x1: ')) # peticion de valor x1\n",
    "x2 = float(input('Captura el valor de x2: ')) # peticion de valor x2\n",
    "y1 = y(x1)                                    # evalua la funcion y(x1)\n",
    "y2 = y(x2)                                    # evalua la funcion y(x1)\n",
    "\n",
    "if y1*y2 > 0:                                 # prueba si los signos son iguales\n",
    "  print('No hay raices en el intervalo')\n",
    "  exit\n",
    "\n",
    "for i in range(100):\n",
    "  xh = (x1+x2)/2\n",
    "  yh = y(xh)                                  # evalua la funcion y(xh)\n",
    "  y1 = y(x1)                                  # evalua la funcion y(x1)\n",
    "  if abs(y1) < 1.0e-6:\n",
    "    break\n",
    "  elif y1*yh < 0:\n",
    "    x2 = xh\n",
    "  else:\n",
    "    x1 = xh\n",
    "print('La raiz es: %.5f' % x1)\n",
    "print('Numero de bisecciones: %d' % (i+1))"
   ]
  },
  {
   "cell_type": "markdown",
   "id": "b350c0f5",
   "metadata": {},
   "source": [
    "**primera aproximación de diferencias centrales** para $f^{(1)}$.\n",
    "$$\n",
    "f'(x) \\approx \\frac{f (x + h) − f (x − h)}{2h}\n",
    "$$\n",
    "**primera aproximación de diferencias forward** para $f^{(1)}$.\n",
    "$$\n",
    "f'(x) \\approx \\frac{f(x+h) - f(x)}{h}\n",
    "$$\n",
    "**primera aproximación de diferencias backwards** para $f^{(1)}$.\n",
    "$$\n",
    "f'(x) \\approx \\frac{f (x) − f (x − h)}{h}\n",
    "$$\n"
   ]
  },
  {
   "cell_type": "code",
   "execution_count": null,
   "id": "672d5f99",
   "metadata": {},
   "outputs": [],
   "source": [
    "#Diferencias finitas\n",
    "from math import *\n",
    "\n",
    "def f(x,n): #La función a derivar con n decimales\n",
    "  return round(e**(-x),n)\n",
    "\n",
    "def d2fc(x,h,f,n): #Segunda derivada de f con aproximación central con n decimales\n",
    "  d2fc=(f(x+h,n)+f(x-h,n)-2*f(x,n))/(h**2)\n",
    "  return d2fc\n",
    "\n",
    "def d2fb(x,h,f,n): #Segunda derivada de f con aproximación backward con n decimales\n",
    "  d2fb=(f(x-2*h,n)-2*f(x-h,n)+f(x,n))/(h**2)\n",
    "  return d2fb\n",
    "\n",
    "def d2ff(x,h,f,n): #Segunda derivada de f con aproximación forward con n decimales\n",
    "  d2ff=(f(x+2*h,n)-2*f(x+h,n)+f(x,n))/(h**2)\n",
    "  return d2ff"
   ]
  },
  {
   "cell_type": "code",
   "execution_count": null,
   "id": "3461ab93",
   "metadata": {},
   "outputs": [],
   "source": [
    "#Segunda derivada de f con aproximación central\n",
    "h=0.64\n",
    "print(\"Con la aproximación central tenemos que\")\n",
    "print(\"  h        6 dígitos   Error    8 dígitos     Error\")\n",
    "print(\"------------------------------------------------------\")\n",
    "for i in range(10):\n",
    "  E1=abs(((f(1,6)-d2fc(1,h,f,6))/f(1,6))*100)\n",
    "  E2=abs(((f(1,8)-d2fc(1,h,f,8))/f(1,8))*100)\n",
    "  print(\"%.6f   %.6f    %.2f     %.8f    %.2f\" %(h,d2fc(1,h,f,6),E1,d2fc(1,h,f,8),E2))\n",
    "  h=h/2\n",
    "print()\n",
    "#Segunda derivada de f con aproximación backward\n",
    "h=0.64\n",
    "print(\"Con la aproximación backward tenemos que\")\n",
    "print(\"  h        6 dígitos   Error    8 dígitos     Error\")\n",
    "print(\"------------------------------------------------------\")\n",
    "for i in range(10):\n",
    "  E1=abs(((f(1,6)-d2fb(1,h,f,6))/f(1,6))*100)\n",
    "  E2=abs(((f(1,8)-d2fb(1,h,f,8))/f(1,8))*100)\n",
    "  print(\"%.6f   %.6f    %.2f     %.8f    %.2f\" %(h,d2fb(1,h,f,6),E1,d2fb(1,h,f,8),E2))\n",
    "  h=h/2\n",
    "print()\n",
    "#Segunda derivada de f con aproximación forward\n",
    "h=0.64\n",
    "print(\"Con la aproximación forward tenemos que\")\n",
    "print(\"  h        6 dígitos   Error    8 dígitos     Error\")\n",
    "print(\"------------------------------------------------------\")\n",
    "for i in range(10):\n",
    "  E1=abs(((f(1,6)-d2ff(1,h,f,6))/f(1,6))*100)\n",
    "  E2=abs(((f(1,8)-d2ff(1,h,f,8))/f(1,8))*100)\n",
    "  print(\"%.6f   %.6f    %.2f     %.8f    %.2f\" %(h,d2ff(1,h,f,6),E1,d2ff(1,h,f,8),E2))\n",
    "  h=h/2\n",
    "print()"
   ]
  },
  {
   "cell_type": "code",
   "execution_count": null,
   "id": "0a377818",
   "metadata": {},
   "outputs": [],
   "source": [
    "'''\n",
    "Modulo regla trapezoidal recursiva\n",
    "\n",
    "Inew = trapecio_recursiva(f,a,b,Iold,k).\n",
    "Iold = Integral de f(x) de x = a hasta b calculada\n",
    "con la regla trapezoidal recursiva con 2ˆ(k-1) paneles.\n",
    "Inew = la misma integral calculada con 2ˆk paneles.\n",
    "'''\n",
    "def trapecio_recursiva(f,a,b,Iold,k):\n",
    "  if k == 1: Inew = (f(a) + f(b))*(b - a)/2.0\n",
    "  else:\n",
    "    n = 2**(k -2 ) # numero de nuevos puntos\n",
    "    h = (b - a)/n # espaciamiento de nuevos puntos\n",
    "    x = a + h/2.0\n",
    "    sum = 0.0\n",
    "    for i in range(n):\n",
    "      sum = sum + f(x)\n",
    "      x = x + h\n",
    "      Inew = (Iold + h*sum)/2.0\n",
    "  return Inew"
   ]
  },
  {
   "cell_type": "code",
   "execution_count": null,
   "id": "50dd13dc",
   "metadata": {},
   "outputs": [],
   "source": [
    "import math\n",
    "def f(x): return math.sqrt(x)*math.cos(x) \n",
    "Iold = 0.0\n",
    "for k in range(1,21):\n",
    "  Inew = trapecio_recursiva(f,0.0,math.pi,Iold,k)\n",
    "  if (k > 1) and (abs(Inew - Iold)) < 1.0e-6: break\n",
    "  Iold = Inew\n",
    "\n",
    "print('Integral =',Inew)\n",
    "print('n Panels =',2**(k-1))"
   ]
  }
 ],
 "metadata": {
  "kernelspec": {
   "display_name": "Python 3",
   "language": "python",
   "name": "python3"
  },
  "language_info": {
   "codemirror_mode": {
    "name": "ipython",
    "version": 3
   },
   "file_extension": ".py",
   "mimetype": "text/x-python",
   "name": "python",
   "nbconvert_exporter": "python",
   "pygments_lexer": "ipython3",
   "version": "3.13.2"
  }
 },
 "nbformat": 4,
 "nbformat_minor": 5
}
