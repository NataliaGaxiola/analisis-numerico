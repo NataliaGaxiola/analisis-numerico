{
 "cells": [
  {
   "cell_type": "markdown",
   "id": "efb165b7",
   "metadata": {},
   "source": [
    "### Examen 2"
   ]
  },
  {
   "cell_type": "markdown",
   "id": "335f035f",
   "metadata": {},
   "source": [
    "1. Utilice el método de Newton-Raphson para calcular $\\sqrt[3]{75}$ con una precisión de cuatro cifras significativas."
   ]
  },
  {
   "cell_type": "markdown",
   "id": "0908deb2",
   "metadata": {},
   "source": [
    "2. Encuentra la raíz positiva (real) más pequeña de la ecuación $ x^3 - 3.23x^2 - 5.54x + 9.84 = 0 $ utilizando el método de bisección."
   ]
  },
  {
   "cell_type": "markdown",
   "id": "b0ec2dfa",
   "metadata": {},
   "source": [
    "3. Utilice aproximaciones por diferencias finitas para calcular $f'(2.36)$ y $f''(2.36)$.\n",
    "\n",
    "| x     | 2.36    | 2.37    | 2.38    | 2.39    |\n",
    "|-------|---------|---------|---------|---------|\n",
    "| f(x) | 0.85866 | 0.86289 | 0.86710 | 0.87129 |"
   ]
  },
  {
   "cell_type": "markdown",
   "id": "9ccaa02b",
   "metadata": {},
   "source": [
    "4. Evalúe $\\int_{0}^{1}\\frac{\\sin x}{\\sqrt{x}}dx$ utilizando la regla trapezoidal recursiva. (Pista: Utilice una transformación de la variable para eliminar la singularidad en $x = 0$.)"
   ]
  }
 ],
 "metadata": {
  "language_info": {
   "name": "python"
  }
 },
 "nbformat": 4,
 "nbformat_minor": 5
}
