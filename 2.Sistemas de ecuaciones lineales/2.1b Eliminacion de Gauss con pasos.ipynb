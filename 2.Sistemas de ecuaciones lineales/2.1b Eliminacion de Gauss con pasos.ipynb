{
 "cells": [
  {
   "cell_type": "code",
   "execution_count": 5,
   "metadata": {},
   "outputs": [
    {
     "name": "stdout",
     "output_type": "stream",
     "text": [
      "La matriz de coeficientes es:\n",
      "  [[ 1.  2.  4.]\n",
      " [ 1.  3.  9.]\n",
      " [ 1.  4. 16.]]\n",
      "La matriz constante es:\n",
      "  [[ 5.]\n",
      " [ 0.]\n",
      " [20.]]\n",
      "La matriz aumentada es :\n",
      " [[ 1.  2.  4.  5.]\n",
      " [ 1.  3.  9.  0.]\n",
      " [ 1.  4. 16. 20.]]\n",
      "El siguiente elemento del procedimiento es: \n",
      "[[ 1.  2.  4.  5.]\n",
      " [ 0.  1.  5. -5.]\n",
      " [ 1.  4. 16. 20.]]\n",
      "El siguiente elemento del procedimiento es: \n",
      "[[ 1.  2.  4.  5.]\n",
      " [ 0.  1.  5. -5.]\n",
      " [ 0.  2. 12. 15.]]\n",
      "El siguiente elemento del procedimiento es: \n",
      "[[ 1.  2.  4.  5.]\n",
      " [ 0.  1.  5. -5.]\n",
      " [ 0.  0.  2. 25.]]\n",
      "El vector solución es :\n",
      " [[ 90. ]\n",
      " [-67.5]\n",
      " [ 12.5]]\n"
     ]
    }
   ],
   "source": [
    "#Programa de eliminación Gaussiana mostrando los pasos\n",
    "import numpy as np\n",
    "\n",
    "a = np.array([[1.0, 2.0, 4.0], [1.0, 3.0, 9.0], [1.0, 4.0, 16.0]])\n",
    "print('La matriz de coeficientes es:\\n ', a)\n",
    "b = np.array([[5.0], [0.0], [20.0]])\n",
    "n = len(b)\n",
    "print('La matriz constante es:\\n ', b)\n",
    "\n",
    "matriz_aumentada = np.concatenate((a,b), axis=1, dtype=float)\n",
    "print('La matriz aumentada es :\\n', matriz_aumentada)\n",
    "\n",
    "\n",
    "def gaussElimin(a,b):\n",
    "  # Fase de eliminacion\n",
    "  for k in range(0,n-1):\n",
    "    for i in range(k+1,n):\n",
    "      if matriz_aumentada[i,k] != 0.0:\n",
    "        lam = matriz_aumentada[i,k]/matriz_aumentada[k,k]\n",
    "        matriz_aumentada[i] = matriz_aumentada[i] - lam*matriz_aumentada[k]\n",
    "        b[i] = b[i] - lam*b[k]\n",
    "        print(f'El siguiente elemento del procedimiento es: {'\\n'}{matriz_aumentada}')\n",
    "  # Fase de sustitucion hacia atras\n",
    "  for k in range(n-1,-1,-1):\n",
    "    b[k] = (b[k] - np.dot(matriz_aumentada[k,k+1:n],b[k+1:n]))/matriz_aumentada[k,k]\n",
    "  return b\n",
    "\n",
    "\n",
    "print('El vector solución es :\\n',gaussElimin(a,b))"
   ]
  },
  {
   "cell_type": "code",
   "execution_count": 6,
   "metadata": {},
   "outputs": [
    {
     "name": "stdout",
     "output_type": "stream",
     "text": [
      "La matriz de coeficientes es:\n",
      "  [[2. 3. 2.]\n",
      " [1. 3. 2.]\n",
      " [1. 1. 1.]]\n",
      "La matriz constante es:\n",
      "  [[27.]\n",
      " [22.]\n",
      " [12.]]\n",
      "La matriz aumentada es :\n",
      " [[ 2.  3.  2. 27.]\n",
      " [ 1.  3.  2. 22.]\n",
      " [ 1.  1.  1. 12.]]\n",
      "El siguiente elemento del procedimiento es: \n",
      "[[ 2.   3.   2.  27. ]\n",
      " [ 0.   1.5  1.   8.5]\n",
      " [ 1.   1.   1.  12. ]]\n",
      "El siguiente elemento del procedimiento es: \n",
      "[[ 2.   3.   2.  27. ]\n",
      " [ 0.   1.5  1.   8.5]\n",
      " [ 0.  -0.5  0.  -1.5]]\n",
      "El siguiente elemento del procedimiento es: \n",
      "[[ 2.          3.          2.         27.        ]\n",
      " [ 0.          1.5         1.          8.5       ]\n",
      " [ 0.          0.          0.33333333  1.33333333]]\n",
      "El vector solución es :\n",
      " [[5.]\n",
      " [3.]\n",
      " [4.]]\n"
     ]
    }
   ],
   "source": [
    "#Programa de eliminación Gaussiana mostrando los pasos\n",
    "import numpy as np\n",
    "\n",
    "a = np.array([[2.0, 3.0, 2.0], [1.0, 3.0, 2.0], [1.0, 1.0, 1.0]])\n",
    "print('La matriz de coeficientes es:\\n ', a)\n",
    "b = np.array([[27.0], [22.0], [12.0]])\n",
    "n = len(b)\n",
    "print('La matriz constante es:\\n ', b)\n",
    "\n",
    "matriz_aumentada = np.concatenate((a,b), axis=1, dtype=float)\n",
    "print('La matriz aumentada es :\\n', matriz_aumentada)\n",
    "\n",
    "\n",
    "def gaussElimin(a,b):\n",
    "  # Fase de eliminacion\n",
    "  for k in range(0,n-1):\n",
    "    for i in range(k+1,n):\n",
    "      if matriz_aumentada[i,k] != 0.0:\n",
    "        lam = matriz_aumentada[i,k]/matriz_aumentada[k,k]\n",
    "        matriz_aumentada[i] = matriz_aumentada[i] - lam*matriz_aumentada[k]\n",
    "        b[i] = b[i] - lam*b[k]\n",
    "        print(f'El siguiente elemento del procedimiento es: {'\\n'}{matriz_aumentada}')\n",
    "  # Fase de sustitucion hacia atras\n",
    "  for k in range(n-1,-1,-1):\n",
    "    b[k] = (b[k] - np.dot(matriz_aumentada[k,k+1:n],b[k+1:n]))/matriz_aumentada[k,k]\n",
    "  return b\n",
    "\n",
    "\n",
    "print('El vector solución es :\\n',gaussElimin(a,b))"
   ]
  },
  {
   "cell_type": "code",
   "execution_count": null,
   "metadata": {},
   "outputs": [],
   "source": []
  }
 ],
 "metadata": {
  "kernelspec": {
   "display_name": "Python 3",
   "language": "python",
   "name": "python3"
  },
  "language_info": {
   "codemirror_mode": {
    "name": "ipython",
    "version": 3
   },
   "file_extension": ".py",
   "mimetype": "text/x-python",
   "name": "python",
   "nbconvert_exporter": "python",
   "pygments_lexer": "ipython3",
   "version": "3.13.2"
  }
 },
 "nbformat": 4,
 "nbformat_minor": 2
}
