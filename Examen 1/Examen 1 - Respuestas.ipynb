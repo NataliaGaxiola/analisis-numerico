{
 "cells": [
  {
   "cell_type": "markdown",
   "metadata": {},
   "source": [
    "### Problema 1"
   ]
  },
  {
   "cell_type": "code",
   "execution_count": 4,
   "metadata": {},
   "outputs": [
    {
     "data": {
      "text/plain": [
       "(5.000000000000001+5.000000000000001j)"
      ]
     },
     "execution_count": 4,
     "metadata": {},
     "output_type": "execute_result"
    }
   ],
   "source": [
    "from cmath import e, exp, acos\n",
    "import numpy\n",
    "\n",
    "alpha=5\n",
    "beta=5\n",
    "\n",
    "r=numpy.sqrt(alpha**2+beta**2)\n",
    "theta=acos(alpha/r)\n",
    "z=r*e**(1j*theta)\n",
    "z"
   ]
  },
  {
   "cell_type": "markdown",
   "metadata": {},
   "source": [
    "### Problema 2"
   ]
  },
  {
   "cell_type": "code",
   "execution_count": 5,
   "metadata": {},
   "outputs": [
    {
     "data": {
      "text/plain": [
       "3.5"
      ]
     },
     "execution_count": 5,
     "metadata": {},
     "output_type": "execute_result"
    }
   ],
   "source": [
    "v_0=2\n",
    "v_f=5\n",
    "a=3\n",
    "\n",
    "x_f=(v_f**2-v_0**2)/(2*a)\n",
    "x_f"
   ]
  },
  {
   "cell_type": "markdown",
   "metadata": {},
   "source": [
    "### Problema 3"
   ]
  },
  {
   "cell_type": "code",
   "execution_count": 6,
   "metadata": {},
   "outputs": [],
   "source": [
    "## modulo gaussElimin\n",
    "'''\n",
    "x = gaussElimin(a,b).\n",
    "Resuelve [a]{x} = {b} por metodo eliminacion de Gauss.\n",
    "'''\n",
    "import numpy as np\n",
    "\n",
    "a = np.array([[2.0, 3.0, 2.0], [1.0, 3.0, 2.0], [1.0, 1.0, 1.0]])\n",
    "b = np.array([[27.0], [22.0], [12.0]])\n",
    "n = len(b)\n",
    "\n",
    "def gaussElimin(a,b):\n",
    "  n = len(b)\n",
    "  # Fase de eliminacion\n",
    "  for k in range(0,n-1):\n",
    "    for i in range(k+1,n):\n",
    "      if a[i,k] != 0.0:\n",
    "        lam = a [i,k]/a[k,k]\n",
    "        a[i,k+1:n] = a[i,k+1:n] - lam*a[k,k+1:n]\n",
    "        b[i] = b[i] - lam*b[k]\n",
    "  # Fase de sustitucion hacia atras\n",
    "  for k in range(n-1,-1,-1):\n",
    "    b[k] = (b[k] - np.dot(a[k,k+1:n],b[k+1:n]))/a[k,k]\n",
    "  return b"
   ]
  },
  {
   "cell_type": "code",
   "execution_count": 7,
   "metadata": {},
   "outputs": [
    {
     "name": "stdout",
     "output_type": "stream",
     "text": [
      "[[5.]\n",
      " [3.]\n",
      " [4.]]\n"
     ]
    }
   ],
   "source": [
    "x = gaussElimin(a,b)\n",
    "print(x)"
   ]
  },
  {
   "cell_type": "markdown",
   "metadata": {},
   "source": [
    "### Problema 4"
   ]
  },
  {
   "cell_type": "code",
   "execution_count": 13,
   "metadata": {},
   "outputs": [
    {
     "data": {
      "image/png": "[encoded data removed]",
      "text/plain": [
       "<Figure size 640x480 with 1 Axes>"
      ]
     },
     "metadata": {},
     "output_type": "display_data"
    },
    {
     "name": "stdout",
     "output_type": "stream",
     "text": [
      "  x        yInt      \n",
      "---------------------\n",
      " -250.0    0.01630000\n",
      " -200.0    0.31800000\n",
      " -150.0    0.54165994\n",
      " -100.0    0.69900000\n",
      " -50.0    0.80366807\n",
      " 0.0    0.87000000\n",
      " 50.0    0.91177983\n",
      " 100.0    0.94100000\n",
      " 150.0    0.96662159\n",
      " 200.0    0.99333455\n",
      " 250.0    1.02031790\n",
      " 300.0    1.04000000\n",
      " 350.0    1.03681875\n",
      " 400.0    0.98598182\n",
      " 450.0    0.85222688\n"
     ]
    }
   ],
   "source": [
    "# Método de interpolación de Newton\n",
    "\n",
    "\n",
    "def evalPoly(a, xData, x):  # Función que evalua polinomios de Lagrange\n",
    "    n = len(xData) - 1  # Grado del polinomio\n",
    "    p = a[n]\n",
    "    for k in range(1, n + 1):\n",
    "        p = a[n - k] + (x - xData[n - k]) * p\n",
    "    return p\n",
    "\n",
    "# Ejemplo método de Newton\n",
    "def coeffts(xData, yData):\n",
    "    m = len(xData)  # Número de datos\n",
    "    a = yData.copy()\n",
    "    for k in range(1, m):\n",
    "        a[k:m] = (a[k:m] - a[k - 1]) / (xData[k:m] - xData[k - 1])\n",
    "    return a\n",
    "import numpy as np\n",
    "import matplotlib.pyplot as plt\n",
    "from math import *\n",
    "\n",
    "xData = np.array([-250.0, -200.0, -100.0, 0.0, 100.0, 300.0])\n",
    "yData = np.array([0.0163, 0.318, 0.699, 0.870, 0.941, 1.04])\n",
    "coeff = coeffts(xData, yData)\n",
    "x = np.arange(-250.0, 500.0, 50.0)\n",
    "plt.plot(x, evalPoly(coeff, xData, x), \"r\", label=\"Newton\")\n",
    "plt.plot(xData, yData, \"o\", label=\"Datos\")\n",
    "plt.legend()\n",
    "plt.grid()\n",
    "plt.show()\n",
    "print(\"  x        yInt      \")\n",
    "print(\"---------------------\")\n",
    "for i in range(len(x)):\n",
    "    y = evalPoly(coeff, xData, x[i])\n",
    "    #yExacta = 4.8 * cos(pi * x[i] / 20)\n",
    "    #Error = abs(((yExacta - y) / yExacta) * 100)\n",
    "    print(\" %.1f    %.8f\" % (x[i], y))"
   ]
  },
  {
   "cell_type": "code",
   "execution_count": null,
   "metadata": {},
   "outputs": [],
   "source": []
  }
 ],
 "metadata": {
  "kernelspec": {
   "display_name": "Python 3 (ipykernel)",
   "language": "python",
   "name": "python3"
  },
  "language_info": {
   "codemirror_mode": {
    "name": "ipython",
    "version": 3
   },
   "file_extension": ".py",
   "mimetype": "text/x-python",
   "name": "python",
   "nbconvert_exporter": "python",
   "pygments_lexer": "ipython3",
   "version": "3.11.5"
  }
 },
 "nbformat": 4,
 "nbformat_minor": 2
}
